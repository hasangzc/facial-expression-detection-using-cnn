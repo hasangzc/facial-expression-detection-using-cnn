{
 "cells": [
  {
   "cell_type": "code",
   "execution_count": 2,
   "metadata": {
    "_cell_guid": "b1076dfc-b9ad-4769-8c92-a6c4dae69d19",
    "_uuid": "8f2839f25d086af736a60e9eeb907d3b93b6e0e5",
    "execution": {
     "iopub.execute_input": "2021-10-10T19:26:12.098644Z",
     "iopub.status.busy": "2021-10-10T19:26:12.09833Z",
     "iopub.status.idle": "2021-10-10T19:26:12.105934Z",
     "shell.execute_reply": "2021-10-10T19:26:12.104907Z",
     "shell.execute_reply.started": "2021-10-10T19:26:12.098614Z"
    }
   },
   "outputs": [],
   "source": [
    "import numpy as np \n",
    "import pandas as pd \n",
    "import os\n",
    "import matplotlib.pyplot as plt    \n",
    "import seaborn as sns    \n",
    "import tensorflow as tf"
   ]
  },
  {
   "cell_type": "markdown",
   "metadata": {},
   "source": [
    "# 1. Upload Data"
   ]
  },
  {
   "cell_type": "code",
   "execution_count": 3,
   "metadata": {
    "execution": {
     "iopub.execute_input": "2021-10-10T19:26:15.620213Z",
     "iopub.status.busy": "2021-10-10T19:26:15.61991Z",
     "iopub.status.idle": "2021-10-10T19:26:22.063217Z",
     "shell.execute_reply": "2021-10-10T19:26:22.062334Z",
     "shell.execute_reply.started": "2021-10-10T19:26:15.620183Z"
    }
   },
   "outputs": [
    {
     "data": {
      "text/html": [
       "<div>\n",
       "<style scoped>\n",
       "    .dataframe tbody tr th:only-of-type {\n",
       "        vertical-align: middle;\n",
       "    }\n",
       "\n",
       "    .dataframe tbody tr th {\n",
       "        vertical-align: top;\n",
       "    }\n",
       "\n",
       "    .dataframe thead th {\n",
       "        text-align: right;\n",
       "    }\n",
       "</style>\n",
       "<table border=\"1\" class=\"dataframe\">\n",
       "  <thead>\n",
       "    <tr style=\"text-align: right;\">\n",
       "      <th></th>\n",
       "      <th>emotion</th>\n",
       "      <th>pixels</th>\n",
       "      <th>Usage</th>\n",
       "    </tr>\n",
       "  </thead>\n",
       "  <tbody>\n",
       "    <tr>\n",
       "      <th>0</th>\n",
       "      <td>0</td>\n",
       "      <td>70 80 82 72 58 58 60 63 54 58 60 48 89 115 121...</td>\n",
       "      <td>Training</td>\n",
       "    </tr>\n",
       "    <tr>\n",
       "      <th>1</th>\n",
       "      <td>0</td>\n",
       "      <td>151 150 147 155 148 133 111 140 170 174 182 15...</td>\n",
       "      <td>Training</td>\n",
       "    </tr>\n",
       "    <tr>\n",
       "      <th>2</th>\n",
       "      <td>2</td>\n",
       "      <td>231 212 156 164 174 138 161 173 182 200 106 38...</td>\n",
       "      <td>Training</td>\n",
       "    </tr>\n",
       "    <tr>\n",
       "      <th>3</th>\n",
       "      <td>4</td>\n",
       "      <td>24 32 36 30 32 23 19 20 30 41 21 22 32 34 21 1...</td>\n",
       "      <td>Training</td>\n",
       "    </tr>\n",
       "    <tr>\n",
       "      <th>4</th>\n",
       "      <td>6</td>\n",
       "      <td>4 0 0 0 0 0 0 0 0 0 0 0 3 15 23 28 48 50 58 84...</td>\n",
       "      <td>Training</td>\n",
       "    </tr>\n",
       "  </tbody>\n",
       "</table>\n",
       "</div>"
      ],
      "text/plain": [
       "   emotion                                             pixels     Usage\n",
       "0        0  70 80 82 72 58 58 60 63 54 58 60 48 89 115 121...  Training\n",
       "1        0  151 150 147 155 148 133 111 140 170 174 182 15...  Training\n",
       "2        2  231 212 156 164 174 138 161 173 182 200 106 38...  Training\n",
       "3        4  24 32 36 30 32 23 19 20 30 41 21 22 32 34 21 1...  Training\n",
       "4        6  4 0 0 0 0 0 0 0 0 0 0 0 3 15 23 28 48 50 58 84...  Training"
      ]
     },
     "execution_count": 3,
     "metadata": {},
     "output_type": "execute_result"
    }
   ],
   "source": [
    "\n",
    "data = pd.read_csv(\"fer2013.csv\")\n",
    "data.head()"
   ]
  },
  {
   "cell_type": "markdown",
   "metadata": {},
   "source": [
    "# 2.Let's examine the dataset"
   ]
  },
  {
   "cell_type": "code",
   "execution_count": 4,
   "metadata": {
    "execution": {
     "iopub.execute_input": "2021-10-10T19:26:44.694857Z",
     "iopub.status.busy": "2021-10-10T19:26:44.694574Z",
     "iopub.status.idle": "2021-10-10T19:26:44.701619Z",
     "shell.execute_reply": "2021-10-10T19:26:44.700646Z",
     "shell.execute_reply.started": "2021-10-10T19:26:44.694829Z"
    }
   },
   "outputs": [
    {
     "data": {
      "text/plain": [
       "(35887, 3)"
      ]
     },
     "execution_count": 4,
     "metadata": {},
     "output_type": "execute_result"
    }
   ],
   "source": [
    "data.shape   "
   ]
  },
  {
   "cell_type": "code",
   "execution_count": 5,
   "metadata": {
    "execution": {
     "iopub.execute_input": "2021-10-10T19:26:46.884192Z",
     "iopub.status.busy": "2021-10-10T19:26:46.883931Z",
     "iopub.status.idle": "2021-10-10T19:26:46.900399Z",
     "shell.execute_reply": "2021-10-10T19:26:46.899236Z",
     "shell.execute_reply.started": "2021-10-10T19:26:46.884168Z"
    }
   },
   "outputs": [
    {
     "data": {
      "text/plain": [
       "Training       28709\n",
       "PrivateTest     3589\n",
       "PublicTest      3589\n",
       "Name: Usage, dtype: int64"
      ]
     },
     "execution_count": 5,
     "metadata": {},
     "output_type": "execute_result"
    }
   ],
   "source": [
    "data['Usage'].value_counts()"
   ]
  },
  {
   "cell_type": "code",
   "execution_count": 6,
   "metadata": {
    "execution": {
     "iopub.execute_input": "2021-10-10T19:26:48.709283Z",
     "iopub.status.busy": "2021-10-10T19:26:48.708818Z",
     "iopub.status.idle": "2021-10-10T19:26:48.841619Z",
     "shell.execute_reply": "2021-10-10T19:26:48.84052Z",
     "shell.execute_reply.started": "2021-10-10T19:26:48.709238Z"
    }
   },
   "outputs": [
    {
     "data": {
      "image/png": "[encoded data removed]",
      "text/plain": [
       "<Figure size 432x288 with 1 Axes>"
      ]
     },
     "metadata": {},
     "output_type": "display_data"
    }
   ],
   "source": [
    "data_list = data['Usage'].value_counts()\n",
    "groups = ['Training', 'PublicTest', 'PrivateTest']\n",
    "colors = sns.color_palette('pastel')[0:5]\n",
    "\n",
    "plt.pie(data_list, labels = groups, colors = colors, autopct='%.0f%%')\n",
    "plt.show()"
   ]
  },
  {
   "cell_type": "code",
   "execution_count": 7,
   "metadata": {
    "execution": {
     "iopub.execute_input": "2021-10-10T19:26:50.776781Z",
     "iopub.status.busy": "2021-10-10T19:26:50.776487Z",
     "iopub.status.idle": "2021-10-10T19:26:50.966591Z",
     "shell.execute_reply": "2021-10-10T19:26:50.965975Z",
     "shell.execute_reply.started": "2021-10-10T19:26:50.776755Z"
    }
   },
   "outputs": [
    {
     "name": "stderr",
     "output_type": "stream",
     "text": [
      "/home/hasan/code/jupyterenvironment/lib/python3.8/site-packages/seaborn/_decorators.py:36: FutureWarning: Pass the following variables as keyword args: x, y. From version 0.12, the only valid positional argument will be `data`, and passing other arguments without an explicit keyword will result in an error or misinterpretation.\n",
      "  warnings.warn(\n"
     ]
    },
    {
     "data": {
      "image/png": "[encoded data removed]",
      "text/plain": [
       "<Figure size 432x288 with 1 Axes>"
      ]
     },
     "metadata": {
      "needs_background": "light"
     },
     "output_type": "display_data"
    }
   ],
   "source": [
    "# Emotion Counts\n",
    "training = data.loc[data[\"Usage\"] == \"Training\"]\n",
    "\n",
    "emotion_map = {0:\"Angry\", 1:\"Disgust\", 2:\"Fear\", 3:\"Happy\", 4:\"Sad\", 5:\"Surprise\", 6:\"Neutral\"}\n",
    "emotion_counts = training['emotion'].value_counts(sort=False).reset_index()\n",
    "emotion_counts.columns = ['emotion', 'number']\n",
    "emotion_counts['emotion'] = emotion_counts['emotion'].map(emotion_map)\n",
    "\n",
    "plt.figure(figsize=(6,4))\n",
    "sns.barplot(emotion_counts.emotion, emotion_counts.number)\n",
    "plt.title('Class distribution')\n",
    "plt.ylabel('Number', fontsize=12)\n",
    "plt.xlabel('Emotions', fontsize=12)\n",
    "plt.show()"
   ]
  },
  {
   "cell_type": "code",
   "execution_count": 8,
   "metadata": {
    "execution": {
     "iopub.execute_input": "2021-10-10T19:26:53.349173Z",
     "iopub.status.busy": "2021-10-10T19:26:53.34835Z",
     "iopub.status.idle": "2021-10-10T19:26:53.668164Z",
     "shell.execute_reply": "2021-10-10T19:26:53.667264Z",
     "shell.execute_reply.started": "2021-10-10T19:26:53.349135Z"
    }
   },
   "outputs": [
    {
     "name": "stderr",
     "output_type": "stream",
     "text": [
      "/home/hasan/code/jupyterenvironment/lib/python3.8/site-packages/seaborn/_decorators.py:36: FutureWarning: Pass the following variables as keyword args: x, y. From version 0.12, the only valid positional argument will be `data`, and passing other arguments without an explicit keyword will result in an error or misinterpretation.\n",
      "  warnings.warn(\n"
     ]
    },
    {
     "data": {
      "image/png": "[encoded data removed]",
      "text/plain": [
       "<Figure size 432x288 with 1 Axes>"
      ]
     },
     "metadata": {
      "needs_background": "light"
     },
     "output_type": "display_data"
    }
   ],
   "source": [
    "public_test = data.loc[data[\"Usage\"] == \"PublicTest\"]\n",
    "\n",
    "emotion_map = {0:\"Angry\", 1:\"Disgust\", 2:\"Fear\", 3:\"Happy\", 4:\"Sad\", 5:\"Surprise\", 6:\"Neutral\"}\n",
    "emotion_counts = public_test['emotion'].value_counts(sort=False).reset_index()\n",
    "emotion_counts.columns = ['emotion', 'number']\n",
    "emotion_counts['emotion'] = emotion_counts['emotion'].map(emotion_map)\n",
    "\n",
    "plt.figure(figsize=(6,4))\n",
    "sns.barplot(emotion_counts.emotion, emotion_counts.number)\n",
    "plt.title('Class distribution')\n",
    "plt.ylabel('Number', fontsize=12)\n",
    "plt.xlabel('Emotions', fontsize=12)\n",
    "plt.show()"
   ]
  },
  {
   "cell_type": "code",
   "execution_count": 9,
   "metadata": {
    "execution": {
     "iopub.execute_input": "2021-10-10T19:26:56.175461Z",
     "iopub.status.busy": "2021-10-10T19:26:56.175159Z",
     "iopub.status.idle": "2021-10-10T19:26:56.38873Z",
     "shell.execute_reply": "2021-10-10T19:26:56.38787Z",
     "shell.execute_reply.started": "2021-10-10T19:26:56.17543Z"
    }
   },
   "outputs": [
    {
     "name": "stderr",
     "output_type": "stream",
     "text": [
      "/home/hasan/code/jupyterenvironment/lib/python3.8/site-packages/seaborn/_decorators.py:36: FutureWarning: Pass the following variables as keyword args: x, y. From version 0.12, the only valid positional argument will be `data`, and passing other arguments without an explicit keyword will result in an error or misinterpretation.\n",
      "  warnings.warn(\n"
     ]
    },
    {
     "data": {
      "image/png": "[encoded data removed]",
      "text/plain": [
       "<Figure size 432x288 with 1 Axes>"
      ]
     },
     "metadata": {
      "needs_background": "light"
     },
     "output_type": "display_data"
    }
   ],
   "source": [
    "emotion_map = {0:\"Angry\", 1:\"Disgust\", 2:\"Fear\", 3:\"Happy\", 4:\"Sad\", 5:\"Surprise\", 6:\"Neutral\"}\n",
    "emotion_counts = training['emotion'].value_counts(sort=False).reset_index()\n",
    "emotion_counts.columns = ['emotion', 'number']\n",
    "emotion_counts['emotion'] = emotion_counts['emotion'].map(emotion_map)\n",
    "\n",
    "plt.figure(figsize=(6,4))\n",
    "sns.barplot(emotion_counts.emotion, emotion_counts.number)\n",
    "plt.title('Class distribution')\n",
    "plt.ylabel('Number', fontsize=12)\n",
    "plt.xlabel('Emotions', fontsize=12)\n",
    "plt.show()"
   ]
  },
  {
   "cell_type": "code",
   "execution_count": 10,
   "metadata": {
    "execution": {
     "iopub.execute_input": "2021-10-10T19:27:00.89109Z",
     "iopub.status.busy": "2021-10-10T19:27:00.890805Z",
     "iopub.status.idle": "2021-10-10T19:27:00.952815Z",
     "shell.execute_reply": "2021-10-10T19:27:00.951822Z",
     "shell.execute_reply.started": "2021-10-10T19:27:00.891062Z"
    }
   },
   "outputs": [
    {
     "data": {
      "image/png": "[encoded data removed]",
      "text/plain": [
       "<PIL.Image.Image image mode=L size=48x48 at 0x7FCA8D34EF10>"
      ]
     },
     "metadata": {},
     "output_type": "display_data"
    },
    {
     "name": "stdout",
     "output_type": "stream",
     "text": [
      "Angry\n"
     ]
    },
    {
     "data": {
      "image/png": "[encoded data removed]",
      "text/plain": [
       "<PIL.Image.Image image mode=L size=48x48 at 0x7FCA8D34EE80>"
      ]
     },
     "metadata": {},
     "output_type": "display_data"
    },
    {
     "name": "stdout",
     "output_type": "stream",
     "text": [
      "Angry\n"
     ]
    },
    {
     "data": {
      "image/png": "[encoded data removed]",
      "text/plain": [
       "<PIL.Image.Image image mode=L size=48x48 at 0x7FCA8D34EF40>"
      ]
     },
     "metadata": {},
     "output_type": "display_data"
    },
    {
     "name": "stdout",
     "output_type": "stream",
     "text": [
      "Fear\n"
     ]
    },
    {
     "data": {
      "image/png": "[encoded data removed]",
      "text/plain": [
       "<PIL.Image.Image image mode=L size=48x48 at 0x7FCA8D57B880>"
      ]
     },
     "metadata": {},
     "output_type": "display_data"
    },
    {
     "name": "stdout",
     "output_type": "stream",
     "text": [
      "Sad\n"
     ]
    }
   ],
   "source": [
    "# Let's look at the first 4 pictures\n",
    "from PIL import Image\n",
    "from IPython.display import display\n",
    "height = int(np.sqrt(len(data.pixels[0].split()))) \n",
    "width = int(height)\n",
    "depth = 1\n",
    "\n",
    "labels =  [\"Angry\", \"Disgust\", \"Fear\", \"Happy\", \"Sad\", \"Surprise\", \"Neutral\"]\n",
    "\n",
    "for i in range(0, 4):\n",
    "    matrix_array = np.mat(data.pixels[i]).reshape(height, width)\n",
    "    img = Image.fromarray(matrix_array.astype(np.uint8))\n",
    "    display(img)\n",
    "    print(labels[data.emotion[i]])"
   ]
  },
  {
   "cell_type": "markdown",
   "metadata": {},
   "source": [
    "# 3. Data processing"
   ]
  },
  {
   "cell_type": "code",
   "execution_count": 11,
   "metadata": {
    "execution": {
     "iopub.execute_input": "2021-10-10T19:27:04.123086Z",
     "iopub.status.busy": "2021-10-10T19:27:04.122817Z",
     "iopub.status.idle": "2021-10-10T19:27:25.028796Z",
     "shell.execute_reply": "2021-10-10T19:27:25.028031Z",
     "shell.execute_reply.started": "2021-10-10T19:27:04.12306Z"
    }
   },
   "outputs": [],
   "source": [
    "from tensorflow.keras.utils import to_categorical\n",
    "training = data.loc[data[\"Usage\"] == \"Training\"]\n",
    "public_test = data.loc[data[\"Usage\"] == \"PublicTest\"]\n",
    "private_test = data.loc[data[\"Usage\"] == \"PrivateTest\"]\n",
    "\n",
    "# Converts a label vector (integers) to binary class matrix.\n",
    "train_labels = training[\"emotion\"]\n",
    "train_labels = to_categorical(train_labels)\n",
    "# train_labels.shape: (28709, 7)\n",
    "\n",
    "train_pixels = training[\"pixels\"].str.split(\" \").tolist()\n",
    "train_pixels = np.uint8(train_pixels)\n",
    "# train_pixels.shape (28709, 48*48\n",
    "train_pixels = train_pixels.reshape((28709, 48, 48, 1))\n",
    "# normalization\n",
    "train_pixels = train_pixels.astype(\"float32\") / 255\n",
    "\n",
    "\n",
    "private_labels = private_test[\"emotion\"]\n",
    "private_labels = to_categorical(private_labels)\n",
    "\n",
    "private_pixels = private_test[\"pixels\"].str.split(\" \").tolist()\n",
    "private_pixels = np.uint8(private_pixels)\n",
    "private_pixels = private_pixels.reshape((3589, 48, 48, 1))\n",
    "private_pixels = private_pixels.astype(\"float32\") / 255\n",
    "\n",
    "\n",
    "public_labels = public_test[\"emotion\"]\n",
    "public_labels = to_categorical(public_labels)\n",
    "\n",
    "public_pixels = public_test[\"pixels\"].str.split(\" \").tolist()\n",
    "public_pixels = np.uint8(public_pixels)\n",
    "public_pixels = public_pixels.reshape((3589, 48, 48, 1))\n",
    "public_pixels = public_pixels.astype(\"float32\") / 255"
   ]
  },
  {
   "cell_type": "markdown",
   "metadata": {},
   "source": [
    "# 4. Create Model"
   ]
  },
  {
   "cell_type": "code",
   "execution_count": 12,
   "metadata": {
    "execution": {
     "iopub.execute_input": "2021-10-10T19:27:35.272483Z",
     "iopub.status.busy": "2021-10-10T19:27:35.27218Z",
     "iopub.status.idle": "2021-10-10T19:27:35.409203Z",
     "shell.execute_reply": "2021-10-10T19:27:35.408523Z",
     "shell.execute_reply.started": "2021-10-10T19:27:35.27245Z"
    }
   },
   "outputs": [],
   "source": [
    "model = tf.keras.models.Sequential([\n",
    "    tf.keras.layers.Conv2D(32, (3,3), activation='relu', input_shape=(48,48,1)),\n",
    "    tf.keras.layers.BatchNormalization(),\n",
    "    tf.keras.layers.Conv2D(32, (3,3), activation='relu'),\n",
    "    tf.keras.layers.MaxPooling2D(2, 2),\n",
    "    tf.keras.layers.Dropout(0.2),\n",
    "    tf.keras.layers.Conv2D(64, (3,3), activation='relu'),\n",
    "    tf.keras.layers.BatchNormalization(),\n",
    "    tf.keras.layers.MaxPooling2D(2, 2),\n",
    "    tf.keras.layers.Dropout(0.2),\n",
    "    tf.keras.layers.Conv2D(128, (3,3), activation='relu'),\n",
    "    tf.keras.layers.BatchNormalization(),\n",
    "    tf.keras.layers.MaxPooling2D(2, 2),\n",
    "    tf.keras.layers.Dropout(0.2),\n",
    "    tf.keras.layers.Flatten(),\n",
    "    tf.keras.layers.Dense(256, activation='relu'),\n",
    "    tf.keras.layers.BatchNormalization(),\n",
    "    tf.keras.layers.Dropout(0.2),\n",
    "    tf.keras.layers.Dense(7, activation='softmax'),\n",
    "])"
   ]
  },
  {
   "cell_type": "code",
   "execution_count": 13,
   "metadata": {
    "execution": {
     "iopub.execute_input": "2021-10-10T19:27:39.042112Z",
     "iopub.status.busy": "2021-10-10T19:27:39.041066Z",
     "iopub.status.idle": "2021-10-10T19:27:39.057423Z",
     "shell.execute_reply": "2021-10-10T19:27:39.056315Z",
     "shell.execute_reply.started": "2021-10-10T19:27:39.042053Z"
    }
   },
   "outputs": [
    {
     "name": "stdout",
     "output_type": "stream",
     "text": [
      "Model: \"sequential\"\n",
      "_________________________________________________________________\n",
      "Layer (type)                 Output Shape              Param #   \n",
      "=================================================================\n",
      "conv2d (Conv2D)              (None, 46, 46, 32)        320       \n",
      "_________________________________________________________________\n",
      "batch_normalization (BatchNo (None, 46, 46, 32)        128       \n",
      "_________________________________________________________________\n",
      "conv2d_1 (Conv2D)            (None, 44, 44, 32)        9248      \n",
      "_________________________________________________________________\n",
      "max_pooling2d (MaxPooling2D) (None, 22, 22, 32)        0         \n",
      "_________________________________________________________________\n",
      "dropout (Dropout)            (None, 22, 22, 32)        0         \n",
      "_________________________________________________________________\n",
      "conv2d_2 (Conv2D)            (None, 20, 20, 64)        18496     \n",
      "_________________________________________________________________\n",
      "batch_normalization_1 (Batch (None, 20, 20, 64)        256       \n",
      "_________________________________________________________________\n",
      "max_pooling2d_1 (MaxPooling2 (None, 10, 10, 64)        0         \n",
      "_________________________________________________________________\n",
      "dropout_1 (Dropout)          (None, 10, 10, 64)        0         \n",
      "_________________________________________________________________\n",
      "conv2d_3 (Conv2D)            (None, 8, 8, 128)         73856     \n",
      "_________________________________________________________________\n",
      "batch_normalization_2 (Batch (None, 8, 8, 128)         512       \n",
      "_________________________________________________________________\n",
      "max_pooling2d_2 (MaxPooling2 (None, 4, 4, 128)         0         \n",
      "_________________________________________________________________\n",
      "dropout_2 (Dropout)          (None, 4, 4, 128)         0         \n",
      "_________________________________________________________________\n",
      "flatten (Flatten)            (None, 2048)              0         \n",
      "_________________________________________________________________\n",
      "dense (Dense)                (None, 256)               524544    \n",
      "_________________________________________________________________\n",
      "batch_normalization_3 (Batch (None, 256)               1024      \n",
      "_________________________________________________________________\n",
      "dropout_3 (Dropout)          (None, 256)               0         \n",
      "_________________________________________________________________\n",
      "dense_1 (Dense)              (None, 7)                 1799      \n",
      "=================================================================\n",
      "Total params: 630,183\n",
      "Trainable params: 629,223\n",
      "Non-trainable params: 960\n",
      "_________________________________________________________________\n"
     ]
    }
   ],
   "source": [
    "model.summary()"
   ]
  },
  {
   "cell_type": "code",
   "execution_count": 14,
   "metadata": {
    "execution": {
     "iopub.execute_input": "2021-10-10T19:27:41.871982Z",
     "iopub.status.busy": "2021-10-10T19:27:41.871709Z",
     "iopub.status.idle": "2021-10-10T19:27:41.88666Z",
     "shell.execute_reply": "2021-10-10T19:27:41.885648Z",
     "shell.execute_reply.started": "2021-10-10T19:27:41.871955Z"
    }
   },
   "outputs": [],
   "source": [
    "model.compile(optimizer=\"Adam\", loss=\"categorical_crossentropy\", metrics=\"accuracy\")"
   ]
  },
  {
   "cell_type": "code",
   "execution_count": 15,
   "metadata": {
    "execution": {
     "iopub.execute_input": "2021-10-10T19:27:45.280384Z",
     "iopub.status.busy": "2021-10-10T19:27:45.280096Z",
     "iopub.status.idle": "2021-10-10T20:08:46.843571Z",
     "shell.execute_reply": "2021-10-10T20:08:46.842178Z",
     "shell.execute_reply.started": "2021-10-10T19:27:45.280358Z"
    }
   },
   "outputs": [
    {
     "name": "stdout",
     "output_type": "stream",
     "text": [
      "Epoch 1/20\n",
      "225/225 [==============================] - 161s 683ms/step - loss: 1.7997 - accuracy: 0.3462 - val_loss: 1.9244 - val_accuracy: 0.2611\n",
      "Epoch 2/20\n",
      "225/225 [==============================] - 163s 723ms/step - loss: 1.4429 - accuracy: 0.4539 - val_loss: 1.6872 - val_accuracy: 0.3619\n",
      "Epoch 3/20\n",
      "225/225 [==============================] - 165s 731ms/step - loss: 1.2994 - accuracy: 0.5076 - val_loss: 1.3408 - val_accuracy: 0.4831\n",
      "Epoch 4/20\n",
      "225/225 [==============================] - 164s 728ms/step - loss: 1.2095 - accuracy: 0.5402 - val_loss: 1.2039 - val_accuracy: 0.5469\n",
      "Epoch 5/20\n",
      "225/225 [==============================] - 167s 743ms/step - loss: 1.1425 - accuracy: 0.5727 - val_loss: 1.1698 - val_accuracy: 0.5575\n",
      "Epoch 6/20\n",
      "225/225 [==============================] - 169s 752ms/step - loss: 1.0869 - accuracy: 0.5926 - val_loss: 1.1650 - val_accuracy: 0.5645\n",
      "Epoch 7/20\n",
      "225/225 [==============================] - 184s 818ms/step - loss: 1.0360 - accuracy: 0.6078 - val_loss: 1.1345 - val_accuracy: 0.5832\n",
      "Epoch 8/20\n",
      "225/225 [==============================] - 176s 783ms/step - loss: 0.9882 - accuracy: 0.6284 - val_loss: 1.1110 - val_accuracy: 0.5901\n",
      "Epoch 9/20\n",
      "225/225 [==============================] - 176s 784ms/step - loss: 0.9368 - accuracy: 0.6483 - val_loss: 1.0965 - val_accuracy: 0.5946\n",
      "Epoch 10/20\n",
      "225/225 [==============================] - 178s 792ms/step - loss: 0.8997 - accuracy: 0.6635 - val_loss: 1.0817 - val_accuracy: 0.6063\n",
      "Epoch 11/20\n",
      "225/225 [==============================] - 180s 798ms/step - loss: 0.8571 - accuracy: 0.6790 - val_loss: 1.0737 - val_accuracy: 0.6069\n",
      "Epoch 12/20\n",
      "225/225 [==============================] - 177s 785ms/step - loss: 0.8238 - accuracy: 0.6921 - val_loss: 1.0655 - val_accuracy: 0.6177\n",
      "Epoch 13/20\n",
      "225/225 [==============================] - 178s 792ms/step - loss: 0.7828 - accuracy: 0.7085 - val_loss: 1.0685 - val_accuracy: 0.6135\n",
      "Epoch 14/20\n",
      "225/225 [==============================] - 182s 811ms/step - loss: 0.7391 - accuracy: 0.7259 - val_loss: 1.0972 - val_accuracy: 0.6155\n",
      "Epoch 15/20\n",
      "225/225 [==============================] - 178s 789ms/step - loss: 0.7062 - accuracy: 0.7386 - val_loss: 1.0808 - val_accuracy: 0.6225\n",
      "Epoch 16/20\n",
      "225/225 [==============================] - 177s 787ms/step - loss: 0.6723 - accuracy: 0.7487 - val_loss: 1.0770 - val_accuracy: 0.6252\n",
      "Epoch 17/20\n",
      "225/225 [==============================] - 180s 799ms/step - loss: 0.6350 - accuracy: 0.7662 - val_loss: 1.1107 - val_accuracy: 0.6177\n",
      "Epoch 18/20\n",
      "225/225 [==============================] - 177s 787ms/step - loss: 0.6143 - accuracy: 0.7733 - val_loss: 1.1609 - val_accuracy: 0.6113\n",
      "Epoch 19/20\n",
      "225/225 [==============================] - 179s 797ms/step - loss: 0.5889 - accuracy: 0.7852 - val_loss: 1.1558 - val_accuracy: 0.6194\n",
      "Epoch 20/20\n",
      "225/225 [==============================] - 176s 782ms/step - loss: 0.5621 - accuracy: 0.7935 - val_loss: 1.1368 - val_accuracy: 0.6289\n"
     ]
    }
   ],
   "source": [
    "history = model.fit(train_pixels, train_labels, validation_data=(private_pixels, private_labels),\n",
    "                    epochs=20, batch_size = 128)"
   ]
  },
  {
   "cell_type": "markdown",
   "metadata": {},
   "source": [
    "# 4. Model Evaluation"
   ]
  },
  {
   "cell_type": "code",
   "execution_count": 16,
   "metadata": {
    "execution": {
     "iopub.execute_input": "2021-10-10T20:08:58.25391Z",
     "iopub.status.busy": "2021-10-10T20:08:58.253567Z",
     "iopub.status.idle": "2021-10-10T20:08:58.736882Z",
     "shell.execute_reply": "2021-10-10T20:08:58.735955Z",
     "shell.execute_reply.started": "2021-10-10T20:08:58.253871Z"
    }
   },
   "outputs": [
    {
     "data": {
      "image/png": "[encoded data removed]",
      "text/plain": [
       "<Figure size 432x288 with 1 Axes>"
      ]
     },
     "metadata": {
      "needs_background": "light"
     },
     "output_type": "display_data"
    },
    {
     "data": {
      "image/png": "[encoded data removed]",
      "text/plain": [
       "<Figure size 432x288 with 1 Axes>"
      ]
     },
     "metadata": {
      "needs_background": "light"
     },
     "output_type": "display_data"
    }
   ],
   "source": [
    "train_acc  = history.history[\"accuracy\"]\n",
    "validation_acc = history.history[\"val_accuracy\"]\n",
    "loss = history.history[\"loss\"]\n",
    "val_loss = history.history[\"val_loss\"]\n",
    "\n",
    "epochs = range(len(train_acc))\n",
    "\n",
    "plt.plot(epochs, train_acc, 'bo', label=\"Training Accuracy\")\n",
    "plt.plot(epochs, validation_acc, 'b', label=\"Validation Accuracy\")\n",
    "plt.title(\"Train and Validation Accuracy\")\n",
    "plt.legend()\n",
    "\n",
    "plt.figure()\n",
    "\n",
    "plt.plot(epochs, loss, 'bo', label='Training loss')\n",
    "plt.plot(epochs, val_loss, 'b', label='Validation loss')\n",
    "plt.title('Training and validation loss')\n",
    "plt.legend()\n",
    "\n",
    "plt.show()"
   ]
  }
 ],
 "metadata": {
  "kernelspec": {
   "display_name": "Python 3",
   "language": "python",
   "name": "python3"
  },
  "language_info": {
   "codemirror_mode": {
    "name": "ipython",
    "version": 3
   },
   "file_extension": ".py",
   "mimetype": "text/x-python",
   "name": "python",
   "nbconvert_exporter": "python",
   "pygments_lexer": "ipython3",
   "version": "3.8.10"
  }
 },
 "nbformat": 4,
 "nbformat_minor": 4
}
